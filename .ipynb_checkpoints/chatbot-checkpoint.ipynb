{
 "cells": [
  {
   "cell_type": "code",
   "execution_count": 15,
   "metadata": {},
   "outputs": [],
   "source": [
    "import pandas as pd\n",
    "import numpy as np\n",
    "import re\n",
    "import ast\n",
    "from tqdm import tqdm"
   ]
  },
  {
   "cell_type": "code",
   "execution_count": 43,
   "metadata": {},
   "outputs": [],
   "source": [
    "movie_lines_path = \"/Users/rohan/Desktop/projects/python-chatbot/movie_lines.txt\"\n",
    "movie_conversations_path = \"/Users/rohan/Desktop/projects/python-chatbot/movie_conversations.txt\"\n",
    "movie_conversation_fields = ['char1ID', 'char2ID', 'movieID', 'utterances']\n",
    "movie_lines_fields = ['lineId', 'charId', 'movieId', 'charname', 'text']\n",
    "\n",
    "def splitConversations(max_len=60, fast_preprocessing=True):\n",
    "    conversations = getconv()\n",
    "    data = []\n",
    "    for i, conversation in enumerate(tqdm(conversations)):\n",
    "        lines = conversation['lines']\n",
    "        for i in range(len(lines) - 1):\n",
    "            request = preprocess_text(lines[i])\n",
    "            reply = preprocess_text(lines[i + 1])\n",
    "            if 0 < len(request) <= max_len and 0 < len(reply) <= max_len:\n",
    "                data += [(request, reply)]\n",
    "    return data\n",
    "\n",
    "def getlines():\n",
    "    with open(movie_lines_path, 'r', encoding='iso-8859-1') as f:\n",
    "        lines = {}\n",
    "        for line in f:\n",
    "            values = line.split(' +++$+++ ')\n",
    "            lineobj = {}\n",
    "            for i, field in enumerate(movie_lines_fields):\n",
    "                lineobj[field] = values[i]\n",
    "                #lineobj['id'] = int(re.sub('L','',lineobj['lineId']))\n",
    "            lines[lineobj['lineId']] = lineobj\n",
    "    return(lines)\n",
    "\n",
    "def getconv():\n",
    "    lines = getlines()\n",
    "    with open(movie_conversations_path, 'r', encoding='iso-8859-1') as f:\n",
    "        conversations = []\n",
    "        for line in f:\n",
    "            values = line.split(' +++$+++ ')\n",
    "            #print(len(values))\n",
    "            lineobj = {}\n",
    "            for i, field in enumerate(movie_conversation_fields):\n",
    "                lineobj[field] = values[i]\n",
    "            lineIds = ast.literal_eval(lineobj[\"utterances\"])\n",
    "            lineobj['lines'] = []\n",
    "            for lineid in lineIds:\n",
    "                lineobj['lines'].append(lines[lineid]['text'])\n",
    "            conversations.append(lineobj)\n",
    "    return conversations\n",
    "\n",
    "def preprocess_text(line):\n",
    "    GOOD_SYMBOLS_RE = re.compile('[^0-9a-z ]')\n",
    "    REPLACE_BY_SPACE_RE = re.compile('[/(){}\\[\\]\\|@,;#+_]')\n",
    "    REPLACE_SEVERAL_SPACES = re.compile('\\s+')\n",
    "    line = line.lower()\n",
    "    line = re.sub('\\n','', line)\n",
    "    line = REPLACE_BY_SPACE_RE.sub(' ', line)\n",
    "    line = GOOD_SYMBOLS_RE.sub('', line)\n",
    "    line = REPLACE_SEVERAL_SPACES.sub(' ', line)\n",
    "    return line.strip()"
   ]
  },
  {
   "cell_type": "code",
   "execution_count": 44,
   "metadata": {},
   "outputs": [
    {
     "name": "stderr",
     "output_type": "stream",
     "text": [
      "100%|██████████| 83097/83097 [00:03<00:00, 22256.79it/s]\n"
     ]
    }
   ],
   "source": [
    "cornell_data = splitConversations()"
   ]
  },
  {
   "cell_type": "code",
   "execution_count": 45,
   "metadata": {},
   "outputs": [
    {
     "data": {
      "text/plain": [
       "[('no no its my fault we didnt have a proper introduction', 'cameron'),\n",
       " ('gosh if only we could find kat a boyfriend', 'let me see what i can do'),\n",
       " ('cesc ma tete this is my head', 'right see youre ready for the quiz'),\n",
       " ('thats because its such a nice one', 'forget french')]"
      ]
     },
     "execution_count": 45,
     "metadata": {},
     "output_type": "execute_result"
    }
   ],
   "source": [
    "cornell_data[1:5]"
   ]
  },
  {
   "cell_type": "code",
   "execution_count": 46,
   "metadata": {},
   "outputs": [],
   "source": [
    "from sklearn.feature_extraction.text import TfidfVectorizer"
   ]
  },
  {
   "cell_type": "code",
   "execution_count": null,
   "metadata": {},
   "outputs": [],
   "source": []
  }
 ],
 "metadata": {
  "kernelspec": {
   "display_name": "Python 3",
   "language": "python",
   "name": "python3"
  },
  "language_info": {
   "codemirror_mode": {
    "name": "ipython",
    "version": 3
   },
   "file_extension": ".py",
   "mimetype": "text/x-python",
   "name": "python",
   "nbconvert_exporter": "python",
   "pygments_lexer": "ipython3",
   "version": "3.8.3"
  }
 },
 "nbformat": 4,
 "nbformat_minor": 4
}
